{
 "cells": [
  {
   "cell_type": "code",
   "execution_count": 1,
   "id": "8de5cd8d",
   "metadata": {},
   "outputs": [],
   "source": [
    "import numpy as np\n",
    "import matplotlib.pyplot as plt\n",
    "import torch\n",
    "import torchvision\n",
    "import torchvision.transforms as transforms\n",
    "import torch.nn as nn\n",
    "import matplotlib.pyplot as plt"
   ]
  },
  {
   "cell_type": "code",
   "execution_count": 2,
   "id": "50c67f5a",
   "metadata": {},
   "outputs": [],
   "source": [
    "# criterion=nn.BCELoss()\n",
    "# x=torch.rand(128,1)\n",
    "# y=torch.rand(128,1)\n",
    "# criterion(x,y)"
   ]
  },
  {
   "cell_type": "code",
   "execution_count": 3,
   "id": "4f699eb7",
   "metadata": {},
   "outputs": [],
   "source": [
    "class cat_data:\n",
    "    def __init__(self):\n",
    "        data = np.load('full_numpy_bitmap_grapes.npy')\n",
    "        data=data/255\n",
    "        data=data.reshape(data.shape[0],1,28,28)\n",
    "        self.data=torch.from_numpy(data.astype(np.float32))\n",
    "        self.samples=data.shape[0]\n",
    "    def __getitem__(self,index):\n",
    "        return self.data[index],torch.tensor([0],dtype=torch.float32)\n",
    "    def __len__(self):\n",
    "        return self.samples"
   ]
  },
  {
   "cell_type": "code",
   "execution_count": 4,
   "id": "2f8e2280",
   "metadata": {},
   "outputs": [
    {
     "data": {
      "text/plain": [
       "torch.Size([64, 1, 28, 28])"
      ]
     },
     "execution_count": 4,
     "metadata": {},
     "output_type": "execute_result"
    }
   ],
   "source": [
    "batch_size = 64\n",
    "data=cat_data()\n",
    "dataloader=torch.utils.data.DataLoader(dataset=data,batch_size=batch_size,shuffle=True)\n",
    "x,y=iter(dataloader).next()\n",
    "x.shape"
   ]
  },
  {
   "cell_type": "code",
   "execution_count": 5,
   "id": "184771d3",
   "metadata": {},
   "outputs": [],
   "source": [
    "# class discriminator(nn.Module):\n",
    "#     def __init__(self):\n",
    "# #         conv=nn.Conv2d()\n",
    "#         super(discriminator,self).__init__()\n",
    "#         self.cnn_layers = nn.Sequential(\n",
    "#             nn.Conv2d(1, 32, 3, 2, 1), #32*14*14\n",
    "#             nn.BatchNorm2d(32),\n",
    "#             nn.ReLU(),\n",
    "            \n",
    "# #             nn.Dropout2d(p=0.2),\n",
    "#             nn.Conv2d(32, 64, 3, 1, 1), #64*14*14\n",
    "#             nn.BatchNorm2d(64),\n",
    "#             nn.ReLU(),\n",
    "            \n",
    "# #             nn.Dropout2d(p=0.2),\n",
    "#             nn.Conv2d(64, 128, 3, 2, 1), #128*7*7\n",
    "#             nn.BatchNorm2d(128),\n",
    "#             nn.ReLU(),\n",
    "            \n",
    "#             nn.Conv2d(128, 128, 3, 2, 1), \n",
    "#             nn.BatchNorm2d(128),\n",
    "#             nn.ReLU(),\n",
    "            \n",
    "#             nn.Conv2d(128, 64, 3, 2,1),\n",
    "#             nn.BatchNorm2d(64),\n",
    "#             nn.ReLU(),\n",
    "            \n",
    "#         )\n",
    "#         self.lin = nn.Linear(2*2*64,1)\n",
    "        \n",
    "#     def forward(self,x):\n",
    "#         pred=self.cnn_layers(x);\n",
    "#         pred=pred.reshape(pred.shape[0],-1)\n",
    "#         pred=torch.sigmoid(self.lin(pred))\n",
    "#         return pred"
   ]
  },
  {
   "cell_type": "code",
   "execution_count": 6,
   "id": "3ac891ac",
   "metadata": {},
   "outputs": [],
   "source": [
    "class discriminator(nn.Module):\n",
    "    def __init__(self):\n",
    "        super(discriminator, self).__init__()\n",
    "        self.main = nn.Sequential(\n",
    "            nn.Linear(784, 256),\n",
    "            nn.LeakyReLU(0.2),\n",
    "            nn.Linear(256, 256),\n",
    "            nn.LeakyReLU(0.2),\n",
    "            nn.Linear(256, 1),\n",
    "            nn.Sigmoid()\n",
    "        )\n",
    "\n",
    "    def forward(self, input):\n",
    "        return self.main(input)\n"
   ]
  },
  {
   "cell_type": "code",
   "execution_count": 7,
   "id": "2a627674",
   "metadata": {},
   "outputs": [],
   "source": [
    "# model=discriminator()\n",
    "\n",
    "# model(x).shape"
   ]
  },
  {
   "cell_type": "code",
   "execution_count": 8,
   "id": "bb0d6a7e",
   "metadata": {},
   "outputs": [],
   "source": [
    "class generator(nn.Module):\n",
    "    def __init__(self):\n",
    "        super(generator, self).__init__()\n",
    "        self.main = nn.Sequential(\n",
    "            nn.Linear(128, 1024),\n",
    "            nn.ReLU(),\n",
    "            nn.Linear(1024, 1024),\n",
    "            nn.ReLU(),\n",
    "            nn.Linear(1024, 784),\n",
    "            nn.Tanh()\n",
    "        )\n",
    "\n",
    "    def forward(self, input):\n",
    "        return self.main(input)"
   ]
  },
  {
   "cell_type": "code",
   "execution_count": 9,
   "id": "011848cf",
   "metadata": {},
   "outputs": [],
   "source": [
    "# class CBR(nn.Sequential):\n",
    "#     def __init__(self, in_planes, out_planes, kernel_size=3, stride=1, groups=1):\n",
    "#         padding = (kernel_size - 1) // 2\n",
    "#         norm_layer = nn.BatchNorm2d\n",
    "#         super(CBR, self).__init__(\n",
    "#             nn.Conv2d(in_planes, out_planes, kernel_size, stride, padding, groups=groups, bias=False),\n",
    "#             norm_layer(out_planes),\n",
    "#             nn.ReLU(inplace=True),\n",
    "#         )\n",
    "# class CBLR(nn.Sequential):\n",
    "#     def __init__(self, in_planes, out_planes, kernel_size=3, stride=1, groups=1):\n",
    "#         padding = (kernel_size - 1) // 2\n",
    "#         norm_layer = nn.BatchNorm2d\n",
    "#         super(CBLR, self).__init__(\n",
    "#             nn.Conv2d(in_planes, out_planes, kernel_size, stride, padding, groups=groups, bias=False),\n",
    "#             norm_layer(out_planes),\n",
    "#             nn.ReLU(inplace=True),\n",
    "#         )\n",
    "# class TCBR(nn.Sequential):\n",
    "#     def __init__(self, in_planes, out_planes, kernel_size=4, stride=2, padding=1):\n",
    "#         padding = (kernel_size - 1) // 2\n",
    "#         norm_layer = nn.BatchNorm2d\n",
    "#         super(TCBR, self).__init__(\n",
    "#             nn.ConvTranspose2d(in_planes, out_planes, kernel_size, stride, padding, bias=False),\n",
    "#             norm_layer(out_planes),\n",
    "#             nn.ReLU(inplace=True),\n",
    "#         )              "
   ]
  },
  {
   "cell_type": "code",
   "execution_count": 10,
   "id": "ab910f69",
   "metadata": {},
   "outputs": [],
   "source": [
    "# class generator(nn.Module):\n",
    "#     def __init__(self, latents):\n",
    "#         super(generator, self).__init__()\n",
    "        \n",
    "#         self.layer1= nn.Sequential(\n",
    "#             # input is random_Z,  state size. latents x 1 x 1 \n",
    "#             # going into a convolution\n",
    "#             TCBR(latents, 256, 4, 2, 1),  # state size. 256 x 2 x 2\n",
    "#             CBR(256, 128, 3, 1)\n",
    "#         )\n",
    "        \n",
    "#         self.layer2= nn.Sequential(\n",
    "#             TCBR(128, 256, 4, 1, 0), # state size. 256 x 3 x 3\n",
    "#             TCBR(256, 256, 4, 2, 1), # state size. 256 x 6 x 6\n",
    "            \n",
    "#         )\n",
    "#         self.layer3= nn.Sequential(\n",
    "#             TCBR(256, 128, 4, 1, 0), # state size. 256 x 7 x 7\n",
    "#             TCBR(128, 128, 4, 2, 1),  # state size. 256 x 14 x 14\n",
    "#             CBR(128, 128, 3, 1)\n",
    "#             # state size. 256 x 6 x 6\n",
    "\n",
    "#         )\n",
    "#         self.layer4= nn.Sequential(\n",
    "#             TCBR(128, 64, 4, 2, 1), # state size. 64 x 28 x 28\n",
    "#             CBR(64, 64, 3, 1),\n",
    "#             CBR(64, 64, 3, 1),\n",
    "#             nn.Conv2d(64, 1, 3, 1, 1), # state size. 1 x 28 x 28\n",
    "#             nn.Tanh()\n",
    "#         )\n",
    "        \n",
    "#     def forward(self, x):\n",
    "#         x = self.layer1(x)\n",
    "#         x = self.layer2(x)\n",
    "#         x = self.layer3(x)\n",
    "#         x = self.layer4(x)\n",
    "#         return x"
   ]
  },
  {
   "cell_type": "code",
   "execution_count": 11,
   "id": "3da3ce0e",
   "metadata": {},
   "outputs": [],
   "source": [
    "lr_g, lr_d =0.0003, 0.0003\n",
    "epochs = 10\n",
    "\n",
    "n_step = len(dataloader)\n",
    "device = 'cuda' if torch.cuda.is_available() else 'cpu'\n",
    "################\n",
    "model_g=generator().to(device)\n",
    "model_d=discriminator().to(device)\n",
    "# model_d.train()\n",
    "# model_g.train()\n",
    "criterion=nn.BCELoss()\n",
    "\n",
    "optim_g=torch.optim.Adam(model_g.parameters(),lr=lr_g,betas=(0.5, 0.999))\n",
    "optim_d=torch.optim.Adam(model_d.parameters(),lr=lr_d,betas=(0.5, 0.999))"
   ]
  },
  {
   "cell_type": "code",
   "execution_count": 12,
   "id": "c14a4b35",
   "metadata": {
    "scrolled": true
   },
   "outputs": [
    {
     "name": "stdout",
     "output_type": "stream",
     "text": [
      "discriminator epoch: 0, step: 0/2427, loss: 1.369\n",
      "generator epoch: 0, step: 0/2427, loss: 0.669\n",
      "discriminator epoch: 0, step: 500/2427, loss: 1.040\n",
      "generator epoch: 0, step: 500/2427, loss: 0.577\n",
      "discriminator epoch: 0, step: 1000/2427, loss: 1.415\n",
      "generator epoch: 0, step: 1000/2427, loss: 0.474\n",
      "discriminator epoch: 0, step: 1500/2427, loss: 1.405\n",
      "generator epoch: 0, step: 1500/2427, loss: 0.425\n",
      "discriminator epoch: 0, step: 2000/2427, loss: 1.505\n",
      "generator epoch: 0, step: 2000/2427, loss: 0.434\n",
      "discriminator epoch: 1, step: 0/2427, loss: 1.556\n",
      "generator epoch: 1, step: 0/2427, loss: 0.451\n",
      "discriminator epoch: 1, step: 500/2427, loss: 1.485\n",
      "generator epoch: 1, step: 500/2427, loss: 0.435\n",
      "discriminator epoch: 1, step: 1000/2427, loss: 1.520\n",
      "generator epoch: 1, step: 1000/2427, loss: 0.408\n",
      "discriminator epoch: 1, step: 1500/2427, loss: 1.482\n",
      "generator epoch: 1, step: 1500/2427, loss: 0.428\n",
      "discriminator epoch: 1, step: 2000/2427, loss: 1.500\n",
      "generator epoch: 1, step: 2000/2427, loss: 0.418\n",
      "discriminator epoch: 2, step: 0/2427, loss: 1.522\n",
      "generator epoch: 2, step: 0/2427, loss: 0.414\n",
      "discriminator epoch: 2, step: 500/2427, loss: 1.481\n",
      "generator epoch: 2, step: 500/2427, loss: 0.413\n",
      "discriminator epoch: 2, step: 1000/2427, loss: 1.481\n",
      "generator epoch: 2, step: 1000/2427, loss: 0.417\n",
      "discriminator epoch: 2, step: 1500/2427, loss: 1.482\n",
      "generator epoch: 2, step: 1500/2427, loss: 0.429\n",
      "discriminator epoch: 2, step: 2000/2427, loss: 1.486\n",
      "generator epoch: 2, step: 2000/2427, loss: 0.428\n",
      "discriminator epoch: 3, step: 0/2427, loss: 1.452\n",
      "generator epoch: 3, step: 0/2427, loss: 0.441\n",
      "discriminator epoch: 3, step: 500/2427, loss: 1.478\n",
      "generator epoch: 3, step: 500/2427, loss: 0.425\n",
      "discriminator epoch: 3, step: 1000/2427, loss: 1.478\n",
      "generator epoch: 3, step: 1000/2427, loss: 0.413\n",
      "discriminator epoch: 3, step: 1500/2427, loss: 1.464\n",
      "generator epoch: 3, step: 1500/2427, loss: 0.440\n",
      "discriminator epoch: 3, step: 2000/2427, loss: 1.466\n",
      "generator epoch: 3, step: 2000/2427, loss: 0.431\n",
      "discriminator epoch: 4, step: 0/2427, loss: 1.501\n",
      "generator epoch: 4, step: 0/2427, loss: 0.418\n",
      "discriminator epoch: 4, step: 500/2427, loss: 1.479\n",
      "generator epoch: 4, step: 500/2427, loss: 0.434\n",
      "discriminator epoch: 4, step: 1000/2427, loss: 1.472\n",
      "generator epoch: 4, step: 1000/2427, loss: 0.434\n",
      "discriminator epoch: 4, step: 1500/2427, loss: 1.478\n",
      "generator epoch: 4, step: 1500/2427, loss: 0.431\n",
      "discriminator epoch: 4, step: 2000/2427, loss: 1.458\n",
      "generator epoch: 4, step: 2000/2427, loss: 0.441\n",
      "discriminator epoch: 5, step: 0/2427, loss: 1.472\n",
      "generator epoch: 5, step: 0/2427, loss: 0.419\n",
      "discriminator epoch: 5, step: 500/2427, loss: 1.458\n",
      "generator epoch: 5, step: 500/2427, loss: 0.429\n",
      "discriminator epoch: 5, step: 1000/2427, loss: 1.504\n",
      "generator epoch: 5, step: 1000/2427, loss: 0.407\n",
      "discriminator epoch: 5, step: 1500/2427, loss: 1.480\n",
      "generator epoch: 5, step: 1500/2427, loss: 0.419\n",
      "discriminator epoch: 5, step: 2000/2427, loss: 1.489\n",
      "generator epoch: 5, step: 2000/2427, loss: 0.425\n",
      "discriminator epoch: 6, step: 0/2427, loss: 1.491\n",
      "generator epoch: 6, step: 0/2427, loss: 0.409\n",
      "discriminator epoch: 6, step: 500/2427, loss: 1.477\n",
      "generator epoch: 6, step: 500/2427, loss: 0.429\n",
      "discriminator epoch: 6, step: 1000/2427, loss: 1.491\n",
      "generator epoch: 6, step: 1000/2427, loss: 0.416\n",
      "discriminator epoch: 6, step: 1500/2427, loss: 1.479\n",
      "generator epoch: 6, step: 1500/2427, loss: 0.419\n",
      "discriminator epoch: 6, step: 2000/2427, loss: 1.489\n",
      "generator epoch: 6, step: 2000/2427, loss: 0.432\n",
      "discriminator epoch: 7, step: 0/2427, loss: 1.492\n",
      "generator epoch: 7, step: 0/2427, loss: 0.417\n",
      "discriminator epoch: 7, step: 500/2427, loss: 1.489\n",
      "generator epoch: 7, step: 500/2427, loss: 0.418\n",
      "discriminator epoch: 7, step: 1000/2427, loss: 1.461\n",
      "generator epoch: 7, step: 1000/2427, loss: 0.426\n",
      "discriminator epoch: 7, step: 1500/2427, loss: 1.465\n",
      "generator epoch: 7, step: 1500/2427, loss: 0.432\n",
      "discriminator epoch: 7, step: 2000/2427, loss: 1.483\n",
      "generator epoch: 7, step: 2000/2427, loss: 0.419\n",
      "discriminator epoch: 8, step: 0/2427, loss: 1.491\n",
      "generator epoch: 8, step: 0/2427, loss: 0.411\n",
      "discriminator epoch: 8, step: 500/2427, loss: 1.483\n",
      "generator epoch: 8, step: 500/2427, loss: 0.425\n",
      "discriminator epoch: 8, step: 1000/2427, loss: 1.484\n",
      "generator epoch: 8, step: 1000/2427, loss: 0.420\n",
      "discriminator epoch: 8, step: 1500/2427, loss: 1.480\n",
      "generator epoch: 8, step: 1500/2427, loss: 0.422\n",
      "discriminator epoch: 8, step: 2000/2427, loss: 1.471\n",
      "generator epoch: 8, step: 2000/2427, loss: 0.422\n",
      "discriminator epoch: 9, step: 0/2427, loss: 1.490\n",
      "generator epoch: 9, step: 0/2427, loss: 0.439\n",
      "discriminator epoch: 9, step: 500/2427, loss: 1.477\n",
      "generator epoch: 9, step: 500/2427, loss: 0.426\n",
      "discriminator epoch: 9, step: 1000/2427, loss: 1.482\n",
      "generator epoch: 9, step: 1000/2427, loss: 0.433\n",
      "discriminator epoch: 9, step: 1500/2427, loss: 1.468\n",
      "generator epoch: 9, step: 1500/2427, loss: 0.423\n",
      "discriminator epoch: 9, step: 2000/2427, loss: 1.486\n",
      "generator epoch: 9, step: 2000/2427, loss: 0.415\n"
     ]
    },
    {
     "data": {
      "image/png": "[encoded data removed]",
      "text/plain": [
       "<Figure size 432x288 with 1 Axes>"
      ]
     },
     "metadata": {
      "needs_background": "light"
     },
     "output_type": "display_data"
    }
   ],
   "source": [
    "for epoch in range(epochs):\n",
    "    for i,(x,y) in enumerate(dataloader):\n",
    "        x, y = x.reshape(x.shape[0],784).to(device), y.to(device)\n",
    "        noise = ((torch.rand((x.shape[0], 128),dtype=torch.float32) - 0.5) / 0.5).to(device)\n",
    "        fake_x = model_g(noise)#.reshape(batch_size,1,28,28)\n",
    "        fake_y = torch.ones((x.shape[0],1),dtype=torch.float32).to(device)\n",
    "        pred_y = model_d(x)\n",
    "        pred_fake = model_d(fake_x.detach())\n",
    "        loss = -1*torch.mean(torch.log(1-pred_fake) + torch.log(pred_y))\n",
    "        \n",
    "#         loss = criterion(pred_y,y)\n",
    "#         loss_fake = criterion(pred_fake,fake_y)\n",
    "#         loss_total = (loss+loss_fake)/2\n",
    "        loss.backward(retain_graph=True)\n",
    "        optim_d.step()\n",
    "        optim_d.zero_grad()\n",
    "        if i%500==0:\n",
    "            print(f'discriminator epoch: {epoch}, step: {i}/{n_step}, loss: {loss:.3f}')\n",
    "\n",
    "#         noise = ((torch.rand((x.shape[0], 128),dtype=torch.float32) - 0.5) / 0.5).to(device)\n",
    "#         fake_x = model_g(noise)#.reshape(batch_size,1,28,28)\n",
    "\n",
    "        pred_fake_new = model_d(fake_x)\n",
    "        loss_g = -1*torch.mean(torch.log(pred_fake_new))\n",
    "#         fake_y = torch.zeros((x.shape[0],1),dtype=torch.float32).to(device)\n",
    "#         loss1 = criterion(pred_fake_grad, fake_y)\n",
    "#         loss1.backward()\n",
    "        loss_g.backward()\n",
    "        optim_g.step()\n",
    "        optim_g.zero_grad()\n",
    "        if i%500==0:\n",
    "            print(f'generator epoch: {epoch}, step: {i}/{n_step}, loss: {loss_g:.3f}')\n",
    "\n",
    "    with torch.no_grad():\n",
    "        noise = ((torch.rand((1, 128),dtype=torch.float32) - 0.5) / 0.5).to(device)\n",
    "        img = model_g(noise)\n",
    "        img.shape\n",
    "        img = img.reshape((28,28))\n",
    "        img = img.to('cpu').detach().numpy()\n",
    "        plt.imshow(img,cmap=\"Greys\")\n",
    "        plt.savefig(\"Generator_epoch_{}.png\".format(epoch))\n"
   ]
  },
  {
   "cell_type": "code",
   "execution_count": 13,
   "id": "97618c73",
   "metadata": {},
   "outputs": [
    {
     "name": "stdout",
     "output_type": "stream",
     "text": [
      "tensor([[0.6429]], device='cuda:0', grad_fn=<SigmoidBackward0>)\n"
     ]
    },
    {
     "data": {
      "text/plain": [
       "<matplotlib.image.AxesImage at 0x1774223ffc8>"
      ]
     },
     "execution_count": 13,
     "metadata": {},
     "output_type": "execute_result"
    },
    {
     "data": {
      "image/png": "[encoded data removed]",
      "text/plain": [
       "<Figure size 432x288 with 1 Axes>"
      ]
     },
     "metadata": {
      "needs_background": "light"
     },
     "output_type": "display_data"
    }
   ],
   "source": [
    "# noise = ((torch.rand((1, 128),dtype=torch.float32) - 0.5) / 0.5).to(device)\n",
    "# print(noise)\n",
    "# img = (img+1)/2*255\n",
    "model_test=generator().to(device)\n",
    "noise = ((torch.rand((1, 128),dtype=torch.float32) - 0.5) / 0.5).to(device)\n",
    "img = model_g(noise)\n",
    "print(model_d(img))\n",
    "img = img.reshape((28,28))\n",
    "img = img.to('cpu').detach().numpy()\n",
    "plt.imshow(img,cmap=\"Greys\")"
   ]
  },
  {
   "cell_type": "code",
   "execution_count": null,
   "id": "4076b085",
   "metadata": {},
   "outputs": [],
   "source": []
  }
 ],
 "metadata": {
  "kernelspec": {
   "display_name": "Python 3 (ipykernel)",
   "language": "python",
   "name": "python3"
  },
  "language_info": {
   "codemirror_mode": {
    "name": "ipython",
    "version": 3
   },
   "file_extension": ".py",
   "mimetype": "text/x-python",
   "name": "python",
   "nbconvert_exporter": "python",
   "pygments_lexer": "ipython3",
   "version": "3.7.4"
  }
 },
 "nbformat": 4,
 "nbformat_minor": 5
}
